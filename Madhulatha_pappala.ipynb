{
  "nbformat": 4,
  "nbformat_minor": 0,
  "metadata": {
    "colab": {
      "name": "Madhulatha pappala.ipynb",
      "provenance": [],
      "authorship_tag": "ABX9TyOGQIwhd/X07GLlPT53HkuE",
      "include_colab_link": true
    },
    "kernelspec": {
      "display_name": "Python 3",
      "name": "python3"
    },
    "language_info": {
      "name": "python"
    }
  },
  "cells": [
    {
      "cell_type": "markdown",
      "metadata": {
        "id": "view-in-github",
        "colab_type": "text"
      },
      "source": [
        "<a href=\"https://colab.research.google.com/github/madhu554/madhulatha.pappala/blob/main/Madhulatha_pappala.ipynb\" target=\"_parent\"><img src=\"https://colab.research.google.com/assets/colab-badge.svg\" alt=\"Open In Colab\"/></a>"
      ]
    },
    {
      "cell_type": "code",
      "metadata": {
        "colab": {
          "background_save": true
        },
        "id": "JAXxquDSRwd5",
        "outputId": "b2ebb9da-fe58-44dc-9afe-3f8ed7b751c4"
      },
      "source": [
        "From Keras datasets import mnist\n",
        " \n",
        "Data=mnist,load_data()"
      ],
      "execution_count": null,
      "outputs": [
        {
          "output_type": "error",
          "ename": "SyntaxError",
          "evalue": "ignored",
          "traceback": [
            "\u001b[0;36m  File \u001b[0;32m\"<ipython-input-2-a22c6f47dc70>\"\u001b[0;36m, line \u001b[0;32m1\u001b[0m\n\u001b[0;31m    From Keras datasets import mnist\u001b[0m\n\u001b[0m             ^\u001b[0m\n\u001b[0;31mSyntaxError\u001b[0m\u001b[0;31m:\u001b[0m invalid syntax\n"
          ]
        }
      ]
    },
    {
      "cell_type": "code",
      "metadata": {
        "id": "4ajlyfx3SUYC"
      },
      "source": [
        "((x_train,y_train),(x_test,y_test))=data"
      ],
      "execution_count": null,
      "outputs": []
    },
    {
      "cell_type": "code",
      "metadata": {
        "id": "xRfukLxKSgn8"
      },
      "source": [
        "X_train=x_train.reshape((x_train.shape[o],28*28)).astype('float32')"
      ],
      "execution_count": null,
      "outputs": []
    },
    {
      "cell_type": "code",
      "metadata": {
        "id": "doafZZSTTBSP"
      },
      "source": [
        "X_train=x_train/255\n",
        "X_test=x_test/255"
      ],
      "execution_count": null,
      "outputs": []
    },
    {
      "cell_type": "code",
      "metadata": {
        "id": "KWe6L7ROTVMi"
      },
      "source": [
        "From Keras.utils import np_utils\n",
        " \n",
        "Print(y_test.shape)\n",
        " \n",
        "Y_train=np_utils.to_categorial(y_train)\n",
        "Y_test=np_utils.to_categorial(y_test)\n",
        " \n",
        "Num_classes y_test.shape[1]\n",
        "Print(y_test.shape)"
      ],
      "execution_count": null,
      "outputs": []
    },
    {
      "cell_type": "code",
      "metadata": {
        "id": "gRhZ0CmfUIRG"
      },
      "source": [
        "From Keras.model import sequencial\n",
        "From Keras.layers import Dense"
      ],
      "execution_count": null,
      "outputs": []
    },
    {
      "cell_type": "code",
      "metadata": {
        "id": "5_bWClNTUe7_"
      },
      "source": [
        "Model=sequencial()\n",
        "Model.add(Dense(32,input_dim=28*28, activation='relv'))\n",
        " \n",
        " \n",
        "Model.add(Dense(64, activation='relv'))\n",
        "Model.add(Dense(10, activation='softmax'))"
      ],
      "execution_count": null,
      "outputs": []
    },
    {
      "cell_type": "code",
      "metadata": {
        "id": "vmWAawFBVUde"
      },
      "source": [
        "Model.compile(loss='categorial_(rossentropy',\n",
        "Optimized='adam', metrics=['accuracy'])"
      ],
      "execution_count": null,
      "outputs": []
    },
    {
      "cell_type": "code",
      "metadata": {
        "id": "gxtIUCCuV4Ku"
      },
      "source": [
        "Model.summary()"
      ],
      "execution_count": null,
      "outputs": []
    },
    {
      "cell_type": "code",
      "metadata": {
        "id": "4IagbV9WV7m5"
      },
      "source": [
        "Model.fit(x_train,y_train,epochs=10,batch_size=100)"
      ],
      "execution_count": null,
      "outputs": []
    },
    {
      "cell_type": "code",
      "metadata": {
        "id": "KTMFky9wWJtr"
      },
      "source": [
        "Scores=model.evaluate(x_text,y_text)\n",
        "Print(scores)"
      ],
      "execution_count": null,
      "outputs": []
    },
    {
      "cell_type": "code",
      "metadata": {
        "id": "ru8mdE6sWbgZ"
      },
      "source": [
        ""
      ],
      "execution_count": null,
      "outputs": []
    }
  ]
}